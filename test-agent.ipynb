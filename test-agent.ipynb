{
 "cells": [
  {
   "cell_type": "markdown",
   "id": "9f39764b",
   "metadata": {},
   "source": [
    "# Import et export de la clé d'API dans une variable d'environnement"
   ]
  },
  {
   "cell_type": "code",
   "execution_count": 1,
   "id": "fba14b05",
   "metadata": {},
   "outputs": [],
   "source": [
    "import os\n",
    "from typing import Annotated\n",
    "\n",
    "from typing_extensions import TypedDict\n",
    "\n",
    "from langgraph.graph import StateGraph, START, END\n",
    "from langgraph.graph.message import add_messages\n",
    "from langchain.chat_models import init_chat_model\n",
    "from langchain_groq import ChatGroq\n",
    "from datetime import datetime\n",
    "from langchain.schema import SystemMessage, AIMessage, HumanMessage"
   ]
  },
  {
   "cell_type": "code",
   "execution_count": null,
   "id": "311bb990",
   "metadata": {},
   "outputs": [],
   "source": [
    "GROQ_API_KEY = \"Ajoutez votre clé API Groq ici\"\n",
    "os.environ[\"GROQ_API_KEY\"] = GROQ_API_KEY"
   ]
  },
  {
   "cell_type": "markdown",
   "id": "f39cc563",
   "metadata": {},
   "source": [
    "# Création du state"
   ]
  },
  {
   "cell_type": "code",
   "execution_count": 3,
   "id": "21d7c5ab",
   "metadata": {},
   "outputs": [],
   "source": [
    "class State(TypedDict):\n",
    "    # Messages have the type \"list\". The `add_messages` function\n",
    "    # in the annotation defines how this state key should be updated\n",
    "    # (in this case, it appends messages to the list, rather than overwriting them)\n",
    "    messages: Annotated[list, add_messages]\n",
    "    next_node: str \n",
    "\n",
    "\n",
    "graph_builder = StateGraph(State)"
   ]
  },
  {
   "cell_type": "code",
   "execution_count": 4,
   "id": "2ba0691b",
   "metadata": {},
   "outputs": [],
   "source": [
    "llm = ChatGroq(\n",
    "    model_name=\"meta-llama/llama-4-scout-17b-16e-instruct\",\n",
    "    temperature=0.7,\n",
    ")"
   ]
  },
  {
   "cell_type": "markdown",
   "id": "ecada226",
   "metadata": {},
   "source": [
    "# Création des tools du router"
   ]
  },
  {
   "cell_type": "code",
   "execution_count": 5,
   "id": "5cef9483",
   "metadata": {},
   "outputs": [],
   "source": [
    "selector_llm = ChatGroq(\n",
    "    model_name=\"meta-llama/llama-4-scout-17b-16e-instruct\",\n",
    "    temperature=0,\n",
    ")"
   ]
  },
  {
   "cell_type": "code",
   "execution_count": 6,
   "id": "b17b9a34",
   "metadata": {},
   "outputs": [],
   "source": [
    "def get_date(state:State):\n",
    "    return {\n",
    "        \"messages\": state[\"messages\"] + [\n",
    "            SystemMessage(content=f\"date : {datetime.now()}\")\n",
    "        ],\n",
    "        \"next_node\": \"chatbot\",\n",
    "    }"
   ]
  },
  {
   "cell_type": "code",
   "execution_count": 7,
   "id": "68f98607",
   "metadata": {},
   "outputs": [],
   "source": [
    "def chatbot(state: State):\n",
    "    return {\n",
    "        \"messages\": state[\"messages\"] + [llm.invoke(state[\"messages\"])],\n",
    "        \"next_node\": \"chatbot\"\n",
    "        }\n",
    "\n",
    "tools = [\n",
    "    get_date,\n",
    "]"
   ]
  },
  {
   "cell_type": "code",
   "execution_count": 8,
   "id": "5e20efb6",
   "metadata": {},
   "outputs": [],
   "source": [
    "def select_tool(state: State):\n",
    "    \"\"\"Choisit l'outil à appeler et mémorise le choix.\"\"\"\n",
    "    resp = selector_llm.invoke(f\"\"\"\n",
    "You are **ToolSelector**, an inner agent whose only task is to decide which tool the outer agent must call next.\n",
    "You NEVER answer the end-user directly.\n",
    "\n",
    "You can use the following messages to decide which tool to call next:\n",
    "[{state[\"messages\"]}]\n",
    "Remember that your answer must be one of the following: {', '.join(tool.__name__ for tool in tools)} or \"chatbot\". The response must be a signle word.\n",
    "example 1 : chatbot\n",
    "example 2 : get_date\n",
    "\n",
    "                               \"\"\"\n",
    "                               )\n",
    "    print(\"Selector response:\", resp)\n",
    "    if resp.content in [tool.__name__ for tool in tools]:\n",
    "        choice = resp.content\n",
    "    else:\n",
    "        choice = \"chatbot\"\n",
    "    print(choice)\n",
    "    return {\n",
    "        \"messages\": state[\"messages\"],\n",
    "        \"next_node\": choice,\n",
    "    }"
   ]
  },
  {
   "cell_type": "markdown",
   "id": "a67e95c7",
   "metadata": {},
   "source": [
    "# Création des noeuds et des arrêtes"
   ]
  },
  {
   "cell_type": "code",
   "execution_count": 9,
   "id": "28519017",
   "metadata": {},
   "outputs": [
    {
     "data": {
      "text/plain": [
       "<langgraph.graph.state.StateGraph at 0x11697fe90>"
      ]
     },
     "execution_count": 9,
     "metadata": {},
     "output_type": "execute_result"
    }
   ],
   "source": [
    "graph_builder.add_node(\"selector\", select_tool)\n",
    "graph_builder.add_node(\"chatbot\", chatbot)\n",
    "\n",
    "for node_fn in tools:\n",
    "    graph_builder.add_node(node_fn.__name__, node_fn)\n",
    "\n",
    "graph_builder.add_edge(START, \"selector\")\n",
    "\n",
    "selections_possibles = {node_fn.__name__:node_fn.__name__ for node_fn in tools}\n",
    "selections_possibles[\"chatbot\"] = \"chatbot\"\n",
    "\n",
    "graph_builder.add_conditional_edges(\n",
    "    \"selector\",\n",
    "    lambda state: state[\"next_node\"],\n",
    "    selections_possibles,\n",
    ")\n",
    "# Après chaque tool, on repasse par chatbot puis END\n",
    "for tool in (tool.__name__ for tool in tools):\n",
    "    graph_builder.add_edge(tool, \"chatbot\")\n",
    "\n",
    "graph_builder.add_edge(\"chatbot\", END)"
   ]
  },
  {
   "cell_type": "code",
   "execution_count": 10,
   "id": "d4016a78",
   "metadata": {},
   "outputs": [],
   "source": [
    "graph = graph_builder.compile()"
   ]
  },
  {
   "cell_type": "code",
   "execution_count": 11,
   "id": "db7b60cb",
   "metadata": {},
   "outputs": [
    {
     "data": {
      "image/png": "[encoded data removed]",
      "text/plain": [
       "<IPython.core.display.Image object>"
      ]
     },
     "metadata": {},
     "output_type": "display_data"
    }
   ],
   "source": [
    "from IPython.display import Image, display\n",
    "\n",
    "try:\n",
    "    display(Image(graph.get_graph().draw_mermaid_png()))\n",
    "except Exception:\n",
    "    # This requires some extra dependencies and is optional\n",
    "    pass"
   ]
  },
  {
   "cell_type": "code",
   "execution_count": 12,
   "id": "165d81b5",
   "metadata": {},
   "outputs": [
    {
     "name": "stdout",
     "output_type": "stream",
     "text": [
      "Selector response: content='get_date' additional_kwargs={} response_metadata={'token_usage': {'completion_tokens': 3, 'prompt_tokens': 136, 'total_tokens': 139, 'completion_time': 0.006218398, 'prompt_time': 0.005909071, 'queue_time': 0.105627211, 'total_time': 0.012127469}, 'model_name': 'meta-llama/llama-4-scout-17b-16e-instruct', 'system_fingerprint': 'fp_37da608fc1', 'finish_reason': 'stop', 'logprobs': None} id='run--45d35c30-3b54-429c-8993-dd911c7e059f-0' usage_metadata={'input_tokens': 136, 'output_tokens': 3, 'total_tokens': 139}\n",
      "get_date\n",
      "Assistant: Quel jour sommes nous ?\n",
      "Assistant: Nous sommes le jeudi 10 juillet 2025.\n"
     ]
    }
   ],
   "source": [
    "def stream_graph_updates(user_input: str):\n",
    "    for event in graph.stream({\"messages\": [{\"role\": \"user\", \"content\": user_input}]}):\n",
    "        for value in event.values():\n",
    "            if not isinstance(value[\"messages\"][-1],SystemMessage):\n",
    "                print(\"Assistant:\", value[\"messages\"][-1].content)\n",
    "\n",
    "\n",
    "stream_graph_updates(\"Quel jour sommes nous ?\")"
   ]
  },
  {
   "cell_type": "code",
   "execution_count": null,
   "id": "3b77c3f4",
   "metadata": {},
   "outputs": [],
   "source": []
  }
 ],
 "metadata": {
  "kernelspec": {
   "display_name": "img_armoire",
   "language": "python",
   "name": "python3"
  },
  "language_info": {
   "codemirror_mode": {
    "name": "ipython",
    "version": 3
   },
   "file_extension": ".py",
   "mimetype": "text/x-python",
   "name": "python",
   "nbconvert_exporter": "python",
   "pygments_lexer": "ipython3",
   "version": "3.12.11"
  }
 },
 "nbformat": 4,
 "nbformat_minor": 5
}
